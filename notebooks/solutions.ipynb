{
 "cells": [
  {
   "cell_type": "code",
   "id": "initial_id",
   "metadata": {
    "collapsed": true,
    "ExecuteTime": {
     "end_time": "2024-10-06T17:34:03.211856Z",
     "start_time": "2024-10-06T17:34:03.204310Z"
    }
   },
   "source": [
    "from sklearn.model_selection import train_test_split\n",
    "from sklearn.preprocessing import LabelEncoder\n",
    "from sklearn.metrics import accuracy_score\n",
    "import pandas as pd\n",
    "from collections import Counter\n",
    "\n",
    "from sklearn.preprocessing import StandardScaler\n",
    "from sklearn.linear_model import LogisticRegression\n",
    "\n",
    "class PenguinModel:\n",
    "    def __init__(self):\n",
    "        self.model = None\n",
    "        self.label_encoder_species = LabelEncoder()\n",
    "        self.label_encoder_sex = LabelEncoder()\n",
    "        self.is_fitted = False\n",
    "        self.species_labels = None\n",
    "        self.scaler = StandardScaler()\n",
    "\n",
    "    def read_data(self, filepath):\n",
    "        \"\"\"\n",
    "        Чтение данных из CSV файла и предобработка\n",
    "        \"\"\"\n",
    "        data = pd.read_csv(filepath)\n",
    "        # Оставляем только необходимые столбцы\n",
    "        data = data[['Species', 'Culmen Length (mm)', 'Culmen Depth (mm)', 'Flipper Length (mm)', 'Body Mass (g)', 'Sex', 'Island']]\n",
    "        data.dropna(inplace=True)\n",
    "\n",
    "        # Преобразование категориальных переменных\n",
    "        data['Species'] = self.label_encoder_species.fit_transform(data['Species'])\n",
    "        data['Sex'] = self.label_encoder_sex.fit_transform(data['Sex'])\n",
    "        data = pd.get_dummies(data, columns=['Island'], drop_first=True)\n",
    "\n",
    "        X = data.drop(columns='Species')\n",
    "        y = data['Species']\n",
    "\n",
    "        # Сохраняем информацию о метках классов (видов пингвинов)\n",
    "        self.species_labels = self.label_encoder_species.classes_\n",
    "\n",
    "        # Масштабируем данные\n",
    "        X_scaled = self.scaler.fit_transform(X)\n",
    "\n",
    "        return X_scaled, y\n",
    "\n",
    "    def class_balance(self, y):\n",
    "        \"\"\"\n",
    "        Подсчет и вывод баланса классов (видов пингвинов)\n",
    "        \"\"\"\n",
    "        species_counts = Counter(y)\n",
    "        print(\"Баланс классов (видов пингвинов):\")\n",
    "        for species, count in species_counts.items():\n",
    "            print(f\"Класс {self.species_labels[species]}: {count} записей\")\n",
    "\n",
    "    def fit(self, X, y):\n",
    "        \"\"\"\n",
    "        Обучение модели логистической регрессии\n",
    "        \"\"\"\n",
    "        X_train, X_test, y_train, y_test = train_test_split(X, y, test_size=0.2, random_state=42)\n",
    "        self.model = LogisticRegression(max_iter=2000)  # Увеличиваем количество итераций\n",
    "        self.model.fit(X_train, y_train)\n",
    "        self.is_fitted = True\n",
    "\n",
    "        # Оценка точности на тестовой выборке\n",
    "        y_pred = self.model.predict(X_test)\n",
    "        accuracy = accuracy_score(y_test, y_pred)\n",
    "        print(f\"Accuracy: {accuracy:.2f}\")\n",
    "        return accuracy\n",
    "\n",
    "    def predict(self, X):\n",
    "        \"\"\"\n",
    "        Предсказание классов для новых данных\n",
    "        \"\"\"\n",
    "        if not self.is_fitted:\n",
    "            raise ValueError(\"The model must be fitted before predicting.\")\n",
    "        X_scaled = self.scaler.transform(X)  # Масштабируем данные перед предсказанием\n",
    "        return self.model.predict(X_scaled)"
   ],
   "outputs": [],
   "execution_count": 5
  },
  {
   "metadata": {
    "ExecuteTime": {
     "end_time": "2024-10-06T17:34:03.563317Z",
     "start_time": "2024-10-06T17:34:03.551239Z"
    }
   },
   "cell_type": "code",
   "source": [
    "# Функция демонстрации модели с визуализацией\n",
    "def demonstrate_penguin_model(filepath):\n",
    "    # Шаг 1. Инициализация модели и чтение данных\n",
    "    model = PenguinModel()\n",
    "    X, y = model.read_data(filepath)\n",
    "\n",
    "    # Шаг 2. Вывод баланса классов\n",
    "    model.class_balance(y)\n",
    "\n",
    "    # Шаг 3. Обучение модели\n",
    "    accuracy = model.fit(X, y)\n",
    "    print(f\"Точность модели: {accuracy:.2f}\")\n",
    "\n",
    "# Пример использования\n",
    "filepath = '../data/raw/penguins_lter.csv'  # Убедитесь, что у вас есть этот файл в той же директории\n",
    "demonstrate_penguin_model(filepath)"
   ],
   "id": "318a682c5bd7e449",
   "outputs": [
    {
     "name": "stdout",
     "output_type": "stream",
     "text": [
      "Баланс классов (видов пингвинов):\n",
      "Класс Adelie Penguin (Pygoscelis adeliae): 146 записей\n",
      "Класс Chinstrap penguin (Pygoscelis antarctica): 68 записей\n",
      "Класс Gentoo penguin (Pygoscelis papua): 120 записей\n",
      "Accuracy: 1.00\n",
      "Точность модели: 1.00\n"
     ]
    }
   ],
   "execution_count": 6
  },
  {
   "metadata": {},
   "cell_type": "code",
   "outputs": [],
   "execution_count": null,
   "source": "",
   "id": "bf392f4d97c579c5"
  }
 ],
 "metadata": {
  "kernelspec": {
   "display_name": "Python 3",
   "language": "python",
   "name": "python3"
  },
  "language_info": {
   "codemirror_mode": {
    "name": "ipython",
    "version": 2
   },
   "file_extension": ".py",
   "mimetype": "text/x-python",
   "name": "python",
   "nbconvert_exporter": "python",
   "pygments_lexer": "ipython2",
   "version": "2.7.6"
  }
 },
 "nbformat": 4,
 "nbformat_minor": 5
}
